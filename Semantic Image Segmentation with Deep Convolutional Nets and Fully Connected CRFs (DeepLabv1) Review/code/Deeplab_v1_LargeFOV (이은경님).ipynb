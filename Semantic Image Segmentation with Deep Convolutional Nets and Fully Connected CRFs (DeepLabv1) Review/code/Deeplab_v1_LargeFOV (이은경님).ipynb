{
 "cells": [
  {
   "cell_type": "markdown",
   "metadata": {},
   "source": [
    "## Large FOV\n",
    "reference : http://www.cs.jhu.edu/~alanlab/ccvl/DeepLab-LargeFOV/train.prototxt, https://github.com/wangleihitcs/DeepLab-V1-PyTorch"
   ]
  },
  {
   "cell_type": "markdown",
   "metadata": {},
   "source": [
    "### 1. VGG16_LargeFOV"
   ]
  },
  {
   "cell_type": "code",
   "execution_count": 3,
   "metadata": {},
   "outputs": [],
   "source": [
    "import torch\n",
    "import torch.nn as nn\n",
    "from torchvision import models"
   ]
  },
  {
   "cell_type": "code",
   "execution_count": 4,
   "metadata": {},
   "outputs": [
    {
     "name": "stdout",
     "output_type": "stream",
     "text": [
      "torch.Size([2, 21, 41, 41])\n"
     ]
    }
   ],
   "source": [
    "class VGG16_LargeFOV(nn.Module):\n",
    "    def __init__(self, num_classes=21, input_size=321, split='train', init_weights=True):\n",
    "        super(VGG16_LargeFOV, self).__init__()\n",
    "        self.input_size = input_size\n",
    "        self.split = split\n",
    "        self.features = nn.Sequential(\n",
    "            ### conv1_1 conv1_2 maxpooling\n",
    "            nn.Conv2d(3, 64, kernel_size=3, stride=1, padding=1),\n",
    "            nn.ReLU(True),\n",
    "            nn.Conv2d(64, 64, kernel_size=3, stride=1, padding=1),\n",
    "            nn.ReLU(True),\n",
    "            nn.MaxPool2d(kernel_size=3, stride=2, padding=1),\n",
    "\n",
    "            ### conv2_1 conv2_2 maxpooling\n",
    "            nn.Conv2d(64, 128, kernel_size=3, stride=1, padding=1),\n",
    "            nn.ReLU(True),\n",
    "            nn.Conv2d(128, 128, kernel_size=3, stride=1, padding=1),\n",
    "            nn.ReLU(True),\n",
    "            nn.MaxPool2d(kernel_size=3, stride=2, padding=1),\n",
    "\n",
    "            ### conv3_1 conv3_2 conv3_3 maxpooling\n",
    "            nn.Conv2d(128, 256, kernel_size=3, stride=1, padding=1),\n",
    "            nn.ReLU(True),\n",
    "            nn.Conv2d(256, 256, kernel_size=3, stride=1, padding=1),\n",
    "            nn.ReLU(True),\n",
    "            nn.Conv2d(256, 256, kernel_size=3, stride=1, padding=1),\n",
    "            nn.ReLU(True),\n",
    "            nn.MaxPool2d(kernel_size=3, stride=2, padding=1),\n",
    "\n",
    "\n",
    "            ### conv4_1 conv4_2 conv4_3 maxpooling(stride=1)\n",
    "            nn.Conv2d(256, 512, kernel_size=3, stride=1, padding=1),\n",
    "            nn.ReLU(True),\n",
    "            nn.Conv2d(512, 512, kernel_size=3, stride=1, padding=1),\n",
    "            nn.ReLU(True),\n",
    "            nn.Conv2d(512, 512, kernel_size=3, stride=1, padding=1),\n",
    "            nn.ReLU(True),\n",
    "            nn.MaxPool2d(kernel_size=3, stride=1, padding=1),\n",
    "\n",
    "            ### conv5_1 conv5_2 conv5_3 (dilated convolution dilation=2, padding=2)\n",
    "            ### maxpooling(stride=1)\n",
    "            nn.Conv2d(512, 512, kernel_size=3, stride=1, padding=2, dilation=2),\n",
    "            nn.ReLU(True),\n",
    "            nn.Conv2d(512, 512, kernel_size=3, stride=1, padding=2, dilation=2),\n",
    "            nn.ReLU(True),\n",
    "            nn.Conv2d(512, 512, kernel_size=3, stride=1, padding=2, dilation=2),\n",
    "            nn.ReLU(True),\n",
    "            nn.MaxPool2d(kernel_size=3, stride=1, padding=1),\n",
    "            ### average pooling\n",
    "            nn.AvgPool2d(kernel_size=3, stride=1, padding=1),\n",
    "\n",
    "            ### fc6 relu6 drop6\n",
    "            nn.Conv2d(512, 1024, kernel_size=3, stride=1, padding=12, dilation=12),\n",
    "            nn.ReLU(True),\n",
    "            nn.Dropout2d(0.5),\n",
    "\n",
    "            ### fc7 relu7 drop7 (kernel_size=1, padding=0)\n",
    "            nn.Conv2d(1024, 1024, kernel_size=1, stride=1, padding=0),\n",
    "            nn.ReLU(True),\n",
    "            nn.Dropout2d(0.5),\n",
    "\n",
    "            ### fc8\n",
    "            nn.Conv2d(1024, num_classes, kernel_size=1, stride=1, padding=0)\n",
    "        )\n",
    "        \n",
    "        if init_weights:\n",
    "            self._initialize_weights()\n",
    "    \n",
    "    def forward(self, x):\n",
    "        output = self.features(x)\n",
    "        if self.split == 'test':\n",
    "            output = nn.functional.interpolate(output, size=(self.input_size, self.input_size), mode='bilinear', align_corners=True)\n",
    "        return output\n",
    "    \n",
    "    def _initialize_weights(self):\n",
    "        for m in self.named_modules():\n",
    "            if isinstance(m[1], nn.Conv2d):\n",
    "                if m[0] == 'features.38':\n",
    "                    nn.init.normal_(m[1].weight.data, mean=0, std=0.01)\n",
    "                    nn.init.constant_(m[1].bias.data, 0.0)\n",
    "            \n",
    "\n",
    "if __name__ == \"__main__\":\n",
    "    model = VGG16_LargeFOV()\n",
    "    x = torch.ones([2, 3, 321, 321])\n",
    "    y = model(x)\n",
    "    print(y.shape)"
   ]
  },
  {
   "cell_type": "code",
   "execution_count": null,
   "metadata": {},
   "outputs": [],
   "source": []
  }
 ],
 "metadata": {
  "kernelspec": {
   "display_name": "Python 3",
   "language": "python",
   "name": "python3"
  },
  "language_info": {
   "codemirror_mode": {
    "name": "ipython",
    "version": 3
   },
   "file_extension": ".py",
   "mimetype": "text/x-python",
   "name": "python",
   "nbconvert_exporter": "python",
   "pygments_lexer": "ipython3",
   "version": "3.8.3"
  }
 },
 "nbformat": 4,
 "nbformat_minor": 4
}
