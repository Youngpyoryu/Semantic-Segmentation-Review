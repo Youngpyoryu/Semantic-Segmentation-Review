{
  "nbformat": 4,
  "nbformat_minor": 0,
  "metadata": {
    "colab": {
      "name": "DeepLabv3+_ResNet",
      "provenance": []
    },
    "kernelspec": {
      "name": "python3",
      "display_name": "Python 3"
    },
    "language_info": {
      "name": "python"
    }
  },
  "cells": [
    {
      "cell_type": "code",
      "metadata": {
        "id": "Ebeg2r5d-WEY"
      },
      "source": [
        "from collections import OrderedDict\n",
        "\n",
        "import torch\n",
        "import torch.nn as nn\n",
        "import torch.nn.functional as F"
      ],
      "execution_count": 1,
      "outputs": []
    },
    {
      "cell_type": "code",
      "metadata": {
        "id": "3RjqIno9R4sS"
      },
      "source": [
        "def CBR(in_channels, out_channels, kernel_size=3, stride=1, padding=1):\n",
        "    layers = []\n",
        "    layers += [nn.Conv2d(in_channels=in_channels, out_channels=out_channels,\n",
        "                            kernel_size=kernel_size, stride=stride, padding=padding)]\n",
        "    layers += [nn.BatchNorm2d(num_features=out_channels)]\n",
        "    layers += [nn.ReLU()]\n",
        "\n",
        "    cbr = nn.Sequential(*layers)\n",
        "    return cbr"
      ],
      "execution_count": 2,
      "outputs": []
    },
    {
      "cell_type": "code",
      "metadata": {
        "id": "wdfqS-cOO5Rf"
      },
      "source": [
        "from types import ModuleType\n",
        "class Bottleneck(nn.Module):\n",
        "    def __init__(self, in_ch, out_ch, stride, dilation, downsample):\n",
        "        super(Bottleneck, self).__init__()\n",
        "        mid_ch = out_ch // 4\n",
        "        self.conv1 = nn.Conv2d(in_channels=in_ch, out_channels=mid_ch, kernel_size=1, stride=1, padding=0, dilation=dilation, bias=False)\n",
        "        self.bn1 = nn.BatchNorm2d(num_features=mid_ch)\n",
        "        self.conv2 = nn.Conv2d(in_channels=mid_ch, out_channels=mid_ch, kernel_size=3, stride=stride, padding=dilation, dilation=dilation, bias=False)\n",
        "        self.bn2 = nn.BatchNorm2d(num_features=mid_ch)\n",
        "        self.conv3 = nn.Conv2d(in_channels=mid_ch, out_channels=out_ch, kernel_size=1, stride=1, padding=0, dilation=dilation, bias=False)\n",
        "        self.bn3 = nn.BatchNorm2d(num_features=out_ch)\n",
        "        self.relu = nn.ReLU(inplace=True)\n",
        "        if downsample:\n",
        "            self.downsample = nn.Sequential(\n",
        "                nn.Conv2d(in_channels=in_ch, out_channels=out_ch, kernel_size=1, stride=stride, padding=0, dilation=dilation, bias=False), \n",
        "                nn.BatchNorm2d(num_features=out_ch)\n",
        "            )\n",
        "            self.is_downsample = True\n",
        "        else:\n",
        "            self.is_downsample = False\n",
        "        \n",
        "\n",
        "    def forward(self, x):\n",
        "        h = self.bn1(self.conv1(x))\n",
        "        h = self.bn2(self.conv2(h))\n",
        "        h = self.bn3(self.conv3(h))\n",
        "        h = self.relu(h)\n",
        "        if self.is_downsample: \n",
        "            h += self.downsample(x)\n",
        "        else:\n",
        "            h += x \n",
        "        return h"
      ],
      "execution_count": 3,
      "outputs": []
    },
    {
      "cell_type": "code",
      "metadata": {
        "id": "fxQMT7NVO6Tv"
      },
      "source": [
        "class ResLayer(nn.Sequential):\n",
        "    def __init__(self, n_layers, in_ch, out_ch, stride, dilation, multi_grid=0):\n",
        "        super(ResLayer, self).__init__()\n",
        "        multi_grids = [1, 2, 2] if multi_grid else [1 for _ in range(n_layers)]\n",
        "        for i in range(n_layers):\n",
        "            self.add_module(\n",
        "                \"{}\".format(i),\n",
        "                Bottleneck(\n",
        "                    in_ch=(in_ch if i == 0 else out_ch), \n",
        "                    out_ch=out_ch,\n",
        "                    stride=(stride if i == 0 else 1),\n",
        "                    dilation=dilation * multi_grids[i],\n",
        "                    downsample=(True if i == 0 else False), # Downsampling is only in the first block (i=0)\n",
        "                ),\n",
        "            )"
      ],
      "execution_count": 4,
      "outputs": []
    },
    {
      "cell_type": "code",
      "metadata": {
        "id": "mZgTgv5uPHj-"
      },
      "source": [
        "class ASPPConv(nn.Module):\n",
        "    def __init__(self, inplanes, outplanes, kernel_size, padding, dilation):\n",
        "        super(ASPPConv, self).__init__()\n",
        "        self.atrous_conv = nn.Conv2d(inplanes, outplanes, kernel_size=kernel_size,\n",
        "                                            stride=1, padding=padding, dilation=dilation, bias=False)\n",
        "        self.bn = nn.BatchNorm2d(outplanes)\n",
        "        self.relu = nn.ReLU()\n",
        "\n",
        "    def forward(self, x):\n",
        "        x = self.atrous_conv(x)\n",
        "        x = self.bn(x)\n",
        "        return self.relu(x)\n",
        "\n",
        "class ASPPPooling(nn.Module):\n",
        "    def __init__(self, inplanes, outplanes):\n",
        "        super(ASPPPooling, self).__init__()\n",
        "        self.globalavgpool = nn.AdaptiveAvgPool2d((1, 1))\n",
        "        self.conv = nn.Conv2d(inplanes, outplanes, 1, stride=1, bias=False)\n",
        "        self.bn = nn.BatchNorm2d(outplanes)\n",
        "        self.relu = nn.ReLU()\n",
        "\n",
        "    def forward(self, x):\n",
        "        x = self.globalavgpool(x)\n",
        "        x = self.conv(x)\n",
        "        x = self.bn(x)\n",
        "        return self.relu(x)\n",
        "\n",
        "\n",
        "class ASPP(nn.Module):\n",
        "    def __init__(self, inplanes, outplanes):\n",
        "        super(ASPP, self).__init__()\n",
        "        dilations = [1, 6, 12, 18]\n",
        "        self.aspp1 = ASPPConv(inplanes, outplanes, 1, padding=0, dilation=dilations[0])\n",
        "        self.aspp2 = ASPPConv(inplanes, outplanes, 3, padding=dilations[1], dilation=dilations[1])\n",
        "        self.aspp3 = ASPPConv(inplanes, outplanes, 3, padding=dilations[2], dilation=dilations[2])\n",
        "        self.aspp4 = ASPPConv(inplanes, outplanes, 3, padding=dilations[3], dilation=dilations[3])\n",
        "        self.global_avg_pool = ASPPPooling(inplanes, outplanes)\n",
        "        self.project = nn.Sequential(\n",
        "            nn.Conv2d(outplanes*5, outplanes, 1, bias=False), \n",
        "            nn.BatchNorm2d(outplanes), \n",
        "            nn.ReLU(), \n",
        "            nn.Dropout(0.5)      \n",
        "        )\n",
        "\n",
        "    def forward(self, x):\n",
        "        x1 = self.aspp1(x)\n",
        "        x2 = self.aspp2(x)\n",
        "        x3 = self.aspp3(x)\n",
        "        x4 = self.aspp4(x)\n",
        "        x5 = self.global_avg_pool(x)\n",
        "        x5 = F.interpolate(x5, size=x.size()[2:], mode='bilinear', align_corners=False)\n",
        "        x = torch.cat((x1, x2, x3, x4, x5), dim=1)\n",
        "\n",
        "        x = self.project(x)\n",
        "        return x"
      ],
      "execution_count": 5,
      "outputs": []
    },
    {
      "cell_type": "code",
      "metadata": {
        "id": "SVH6q1g8TBYF"
      },
      "source": [
        "class DeepLabHead(nn.Sequential):\n",
        "    def __init__(self, ch, out_ch, n_classes):\n",
        "        super(DeepLabHead, self).__init__()\n",
        "        self.add_module(\"0\", ASPP(ch[-1], out_ch))\n",
        "        self.add_module(\"1\", nn.Conv2d(out_ch, out_ch, kernel_size=3, stride=1, padding=1 , bias=False))\n",
        "        self.add_module(\"2\", nn.BatchNorm2d(out_ch))\n",
        "        self.add_module(\"3\", nn.ReLU())\n",
        "        self.add_module(\"4\", nn.Conv2d(out_ch, n_classes, kernel_size=1, stride=1))"
      ],
      "execution_count": 6,
      "outputs": []
    },
    {
      "cell_type": "code",
      "metadata": {
        "colab": {
          "base_uri": "https://localhost:8080/"
        },
        "id": "ZmaIPNlOO9NJ",
        "outputId": "35f4b3c3-6f50-4d21-8674-53d809e0bbef"
      },
      "source": [
        "class DeepLabV3_plus(nn.Sequential):\n",
        "    def __init__(self, n_classes , n_blocks , atrous_rates , output_stride):\n",
        "        super(DeepLabV3_plus, self).__init__()\n",
        "        ch = [64 * 2 ** p for p in range(6)]\n",
        "\n",
        "        if output_stride == 8:\n",
        "            s = [1, 2, 1, 1]\n",
        "            d = [1, 1, 2, 4]\n",
        "        elif output_stride == 16:\n",
        "            s = [1, 2, 2, 1]\n",
        "            d = [1, 1, 1, 2]\n",
        "\n",
        "        self.cbr1 = CBR(3, 64, kernel_size=7, stride=2, padding=3)\n",
        "        self.maxpool = nn.MaxPool2d(kernel_size=3, stride=2, padding=1, dilation=1)\n",
        "        self.layer1 = ResLayer(n_blocks[0], ch[0], ch[2], s[0], d[0], 0)\n",
        "        self.layer2 = ResLayer(n_blocks[1], ch[2], ch[3], s[1], d[1], 0)\n",
        "        self.layer3 = ResLayer(n_blocks[2], ch[3], ch[4], s[2], d[2], 0)\n",
        "        self.layer4 = ResLayer(n_blocks[3], ch[4], ch[5], s[3], d[3], 1)\n",
        "        self.aspp = ASPP(ch[-1], 256)\n",
        "        self.conv1 = nn.Conv2d(in_channels=ch[3], out_channels=256, kernel_size=1, stride=1, padding=0, bias=False)\n",
        "        self.conv2 = nn.Sequential(\n",
        "            OrderedDict(\n",
        "                [\n",
        "                    (\"conv1\", CBR(256*2, 256, 3, 1, 1)),\n",
        "                    (\"conv2\", CBR(256, 256, 3, 1, 1)),\n",
        "                    (\"conv3\", nn.Conv2d(256, n_classes, kernel_size=1)),\n",
        "                ]\n",
        "            )\n",
        "        )\n",
        "\n",
        "    def forward(self, x):\n",
        "        h = self.cbr1(x)\n",
        "        h = self.maxpool(h)\n",
        "        h = self.layer1(h)\n",
        "        out1 = h = self.layer2(h)\n",
        "        out1 = self.conv1(out1)\n",
        "\n",
        "        h = self.layer3(h)\n",
        "        h = self.layer4(h)\n",
        "        h = self.aspp(h)\n",
        "        h = F.interpolate(h, size=out1.size()[2:], mode='bilinear', align_corners=False)\n",
        "        h = torch.cat([out1, h], dim=1)\n",
        "        h = self.conv2(h)\n",
        "        h = F.interpolate(h, size=x.shape[2:], mode=\"bilinear\", align_corners=False)\n",
        "        return h\n",
        "\n",
        "if __name__ == \"__main__\":\n",
        "    model = DeepLabV3_plus(\n",
        "        n_classes=21, n_blocks=[3, 4, 23, 3], atrous_rates=[6, 12, 18, 24], output_stride=8\n",
        "    )\n",
        "    image = torch.randn(4, 3, 512, 512)\n",
        "    print(\"input:\", image.shape)\n",
        "    print(\"output:\", model(image).shape)"
      ],
      "execution_count": 7,
      "outputs": [
        {
          "output_type": "stream",
          "text": [
            "input: torch.Size([4, 3, 512, 512])\n",
            "torch.Size([4, 256, 64, 64]) torch.Size([4, 256, 64, 64])\n",
            "output: torch.Size([4, 21, 512, 512])\n"
          ],
          "name": "stdout"
        }
      ]
    },
    {
      "cell_type": "code",
      "metadata": {
        "id": "rt_4f3YhS4zx"
      },
      "source": [
        ""
      ],
      "execution_count": null,
      "outputs": []
    }
  ]
}