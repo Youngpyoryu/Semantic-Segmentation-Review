{
 "cells": [
  {
   "cell_type": "markdown",
   "id": "failing-screen",
   "metadata": {},
   "source": [
    "# PSPNet\n",
    "\n",
    "![fig_3](./fig_3.png)\n",
    "\n",
    "코드의 구현에는 https://github.com/hszhao/semseg 를 참고하였습니다.\n",
    "\n",
    "## 순서\n",
    "1. Dilated ResNet 코드\n",
    "2. Pyramid Parsing Module 코드\n",
    "3. PSPNet 전체 코드"
   ]
  },
  {
   "cell_type": "markdown",
   "id": "fatal-departure",
   "metadata": {},
   "source": [
    "### 1. Dilated Residual Network (Dilated ResNet)"
   ]
  },
  {
   "cell_type": "code",
   "execution_count": 1,
   "id": "korean-schedule",
   "metadata": {},
   "outputs": [],
   "source": [
    "import torch\n",
    "import torch.nn as nn\n",
    "from torchinfo import summary\n",
    "import torch.nn.functional as F\n",
    "\n",
    "import resnet as models\n",
    "\n",
    "device = torch.device('cuda' if torch.cuda.is_available() else 'cpu')"
   ]
  },
  {
   "cell_type": "code",
   "execution_count": 2,
   "id": "established-intent",
   "metadata": {},
   "outputs": [],
   "source": [
    "class DilatedResNet(nn.Module):\n",
    "    def __init__(self, layers=50, pretrained=True):\n",
    "        super(DilatedResNet, self).__init__()\n",
    "\n",
    "        # ResNet 50\n",
    "        if layers == 50:\n",
    "            resnet = models.resnet50(pretrained=pretrained)\n",
    "        # ResNet 101\n",
    "        elif layers == 101:\n",
    "            resnet = models.resnet101(pretrained=pretrained)\n",
    "        # ResNet 152\n",
    "        else:\n",
    "            resnet = models.resnet152(pretrained=pretrained)\n",
    "\n",
    "        # ResNet with dilated network\n",
    "        self.layer0 = nn.Sequential(resnet.conv1, resnet.bn1, resnet.relu,\n",
    "                                    resnet.conv2, resnet.bn2, resnet.relu,\n",
    "                                    resnet.conv3, resnet.bn3, resnet.relu, resnet.maxpool)\n",
    "        self.layer1 = resnet.layer1\n",
    "        self.layer2 = resnet.layer2\n",
    "        self.layer3 = resnet.layer3\n",
    "        self.layer4 = resnet.layer4\n",
    "        \n",
    "        for n, m in self.layer3.named_modules():\n",
    "            if 'conv2' in n:\n",
    "                m.dilation, m.padding, m.stride = (2, 2), (2, 2), (1, 1)\n",
    "            elif 'downsample.0' in n:\n",
    "                m.stride = (1, 1)\n",
    "        for n, m in self.layer4.named_modules():\n",
    "            if 'conv2' in n:\n",
    "                m.dilation, m.padding, m.stride = (4, 4), (4, 4), (1, 1)\n",
    "            elif 'downsample.0' in n:\n",
    "                m.stride = (1, 1)\n",
    "\n",
    "\n",
    "    def forward(self, x, y=None):\n",
    "        x = self.layer0(x)\n",
    "        x = self.layer1(x)\n",
    "        x = self.layer2(x)\n",
    "        x_tmp = self.layer3(x)\n",
    "        x = self.layer4(x_tmp)\n",
    "\n",
    "        return x"
   ]
  },
  {
   "cell_type": "code",
   "execution_count": 3,
   "id": "elder-tradition",
   "metadata": {
    "scrolled": true
   },
   "outputs": [
    {
     "name": "stdout",
     "output_type": "stream",
     "text": [
      "Dilated ResNet 50's output size : torch.Size([4, 2048, 25, 25])\n"
     ]
    }
   ],
   "source": [
    "inp = torch.rand(4, 3, 200, 200)\n",
    "layers = 50\n",
    "\n",
    "resnet = DilatedResNet(layers=layers, pretrained=False)\n",
    "output = resnet(inp)\n",
    "print(f\"Dilated ResNet {layers}'s output size : {output.size()}\")"
   ]
  },
  {
   "cell_type": "markdown",
   "id": "headed-batman",
   "metadata": {},
   "source": [
    "## 2. Pyramid Pooling Module"
   ]
  },
  {
   "cell_type": "code",
   "execution_count": 4,
   "id": "auburn-sunglasses",
   "metadata": {},
   "outputs": [],
   "source": [
    "class PPM(nn.Module):\n",
    "    def __init__(self, in_dim, reduction_dim, bins):\n",
    "        super(PPM, self).__init__()\n",
    "\n",
    "        self.features = []\n",
    "        \n",
    "        # bins = (1, 2, 3, 6) : 1x1, 2x2, 3x3, 6x6\n",
    "        for bin in bins:\n",
    "            self.features.append(nn.Sequential(\n",
    "                # Pyramid scale에 따라 각각의 pooling을 생성\n",
    "                nn.AdaptiveAvgPool2d(bin),\n",
    "\n",
    "                # 1/N으로 dimension reduction (reduction_dim = 4, pyramid level의 수)\n",
    "                nn.Conv2d(in_dim, reduction_dim, kernel_size=1, bias=False),\n",
    "                nn.BatchNorm2d(reduction_dim),\n",
    "                nn.ReLU(inplace=True)\n",
    "            ))\n",
    "        self.features = nn.ModuleList(self.features)\n",
    "\n",
    "    def forward(self, x):\n",
    "        x_size = x.size()\n",
    "        out = [x]\n",
    "        for f in self.features:\n",
    "            out.append(F.interpolate(f(x), x_size[2:], mode='bilinear', align_corners=True))\n",
    "            \n",
    "        # 각각의 pyramid scale에 따른 pooling 결과들을 concatenate\n",
    "        return torch.cat(out, 1)"
   ]
  },
  {
   "cell_type": "code",
   "execution_count": 5,
   "id": "adult-annex",
   "metadata": {},
   "outputs": [
    {
     "name": "stdout",
     "output_type": "stream",
     "text": [
      "Pyramid Pooling Module's output size : torch.Size([4, 4096, 25, 25])\n"
     ]
    }
   ],
   "source": [
    "# input features dim : 2048\n",
    "in_dim = output.size()[1]\n",
    "\n",
    "# pyramid pooling levels : 1x1, 2x2, 3x3, 6x6\n",
    "bins = (1, 2, 3, 6)\n",
    "\n",
    "# dimension reduction : 1 / N\n",
    "reduction_dim = int(in_dim / len(bins)) # N = 4\n",
    "\n",
    "ppm = PPM(in_dim=in_dim, reduction_dim=reduction_dim, bins=bins)\n",
    "output = ppm(output)\n",
    "print(f\"Pyramid Pooling Module's output size : {output.size()}\")"
   ]
  },
  {
   "cell_type": "markdown",
   "id": "rational-apollo",
   "metadata": {},
   "source": [
    "### AdaptiveAvgPool2d"
   ]
  },
  {
   "cell_type": "code",
   "execution_count": 6,
   "id": "trying-salem",
   "metadata": {},
   "outputs": [
    {
     "name": "stdout",
     "output_type": "stream",
     "text": [
      "torch.Size([1, 1, 3, 3])\n",
      "tensor([[[[1., 2., 3.],\n",
      "          [4., 5., 6.],\n",
      "          [7., 8., 9.]]]])\n"
     ]
    }
   ],
   "source": [
    "inp = torch.tensor([[[[1., 2., 3.], [4., 5., 6.], [7., 8., 9]]]], dtype = torch.float)\n",
    "print(inp.shape)\n",
    "print(inp)"
   ]
  },
  {
   "cell_type": "code",
   "execution_count": 7,
   "id": "stable-expense",
   "metadata": {},
   "outputs": [
    {
     "name": "stdout",
     "output_type": "stream",
     "text": [
      "tensor([[[[3., 4.],\n",
      "          [6., 7.]]]])\n"
     ]
    }
   ],
   "source": [
    "out = nn.AdaptiveAvgPool2d(2)(inp)\n",
    "print(out)\n",
    "# print(torch.tensor(\n",
    "#     [[[(1. + 2. + 4. + 5.) / 4, (2. + 3. + 5. + 6.) / 4],\n",
    "#       [(4. + 5. + 7. + 8.) / 4, (5. + 6. + 8. + 9.) / 4]]]))"
   ]
  },
  {
   "cell_type": "code",
   "execution_count": 8,
   "id": "taken-aruba",
   "metadata": {},
   "outputs": [
    {
     "name": "stdout",
     "output_type": "stream",
     "text": [
      "tensor([[[[5.]]]])\n"
     ]
    }
   ],
   "source": [
    "# Global Average Pooling\n",
    "out = nn.AdaptiveAvgPool2d(1)(inp)\n",
    "print(out)"
   ]
  },
  {
   "cell_type": "markdown",
   "id": "universal-alfred",
   "metadata": {},
   "source": [
    "## 3. PSPNet 전체 코드"
   ]
  },
  {
   "cell_type": "code",
   "execution_count": 9,
   "id": "ancient-stadium",
   "metadata": {},
   "outputs": [],
   "source": [
    "class PSPNet(nn.Module):\n",
    "    def __init__(self, layers=50, bins=(1, 2, 3, 6), dropout=0.1, classes=2, zoom_factor=8, pretrained=True):\n",
    "        super(PSPNet, self).__init__()\n",
    "        \n",
    "        # output의 크기를 원본 이미지와 동일하게 복원하기 위한 값\n",
    "        # Feature map의 크기는 원본 이미지의 1/8\n",
    "        self.zoom_factor = zoom_factor\n",
    "        \n",
    "        self.criterion = nn.CrossEntropyLoss()\n",
    "        \n",
    "        # ResNet\n",
    "        if layers == 50:\n",
    "            resnet = models.resnet50(pretrained=pretrained)\n",
    "        elif layers == 101:\n",
    "            resnet = models.resnet101(pretrained=pretrained)\n",
    "        else:\n",
    "            resnet = models.resnet152(pretrained=pretrained)\n",
    "        \n",
    "        # ResNet with dilated network\n",
    "        self.layer0 = nn.Sequential(resnet.conv1, resnet.bn1, resnet.relu,\n",
    "                                    resnet.conv2, resnet.bn2, resnet.relu,\n",
    "                                    resnet.conv3, resnet.bn3, resnet.relu, resnet.maxpool)\n",
    "        self.layer1 = resnet.layer1\n",
    "        self.layer2 = resnet.layer2\n",
    "        self.layer3 = resnet.layer3\n",
    "        self.layer4 = resnet.layer4\n",
    "        \n",
    "        for n, m in self.layer3.named_modules():\n",
    "            if 'conv2' in n:\n",
    "                m.dilation, m.padding, m.stride = (2, 2), (2, 2), (1, 1)\n",
    "            elif 'downsample.0' in n:\n",
    "                m.stride = (1, 1)\n",
    "        for n, m in self.layer4.named_modules():\n",
    "            if 'conv2' in n:\n",
    "                m.dilation, m.padding, m.stride = (4, 4), (4, 4), (1, 1)\n",
    "            elif 'downsample.0' in n:\n",
    "                m.stride = (1, 1)\n",
    "\n",
    "        # Dilated ResNet output size : torch.Size([4, 2048, 60, 60])\n",
    "        fea_dim = 2048\n",
    "        self.ppm = PPM(in_dim = fea_dim, reduction_dim = int(fea_dim / len(bins)), bins=bins)\n",
    "        \n",
    "        # Pyramid Pooling Module output size : torch.Size([4, 4096, 60, 60])\n",
    "        fea_dim *= 2 # 4096\n",
    "        \n",
    "        self.cls = nn.Sequential(\n",
    "            nn.Conv2d(fea_dim, 512, kernel_size=3, padding=1, bias=False),\n",
    "            nn.BatchNorm2d(512),\n",
    "            nn.ReLU(inplace=True),\n",
    "            nn.Dropout2d(p=dropout),\n",
    "            nn.Conv2d(512, classes, kernel_size=1)\n",
    "        )\n",
    "        if self.training:\n",
    "            self.aux = nn.Sequential(\n",
    "                nn.Conv2d(1024, 256, kernel_size=3, padding=1, bias=False),\n",
    "                nn.BatchNorm2d(256),\n",
    "                nn.ReLU(inplace=True),\n",
    "                nn.Dropout2d(p=dropout),\n",
    "                nn.Conv2d(256, classes, kernel_size=1)\n",
    "            )\n",
    "\n",
    "    def forward(self, x, y=None):\n",
    "        x_size = x.size()\n",
    "        \n",
    "        # Input image's height, width\n",
    "        h = int((x_size[2] - 1) / 8 * self.zoom_factor + 1)\n",
    "        w = int((x_size[3] - 1) / 8 * self.zoom_factor + 1)\n",
    "        \n",
    "        # Resnet with dilated network\n",
    "        x = self.layer0(x)\n",
    "        x = self.layer1(x)\n",
    "        x = self.layer2(x)\n",
    "        x_tmp = self.layer3(x)\n",
    "        x = self.layer4(x_tmp)\n",
    "        \n",
    "        # Pyramid Pooling Module\n",
    "        x = self.ppm(x)\n",
    "        \n",
    "        # Master branch\n",
    "        x = self.cls(x)\n",
    "        \n",
    "        # 원본 이미지 크기로 upsampling\n",
    "        if self.zoom_factor != 1:\n",
    "            x = F.interpolate(x, size=(h, w), mode='bilinear', align_corners=True)\n",
    "\n",
    "        if self.training:\n",
    "            # Auxiliary Loss는 training에서만 사용\n",
    "            aux = self.aux(x_tmp)\n",
    "            \n",
    "            # 원본 이미지 크기로 upsampling\n",
    "            if self.zoom_factor != 1:\n",
    "                aux = F.interpolate(aux, size=(h, w), mode='bilinear', align_corners=True)\n",
    "                \n",
    "            main_loss = self.criterion(x, y)\n",
    "            aux_loss = self.criterion(aux, y)\n",
    "            return x.max(1)[1], main_loss, aux_loss\n",
    "        else:\n",
    "            return x"
   ]
  },
  {
   "cell_type": "code",
   "execution_count": 10,
   "id": "extended-cyprus",
   "metadata": {
    "scrolled": false
   },
   "outputs": [
    {
     "name": "stdout",
     "output_type": "stream",
     "text": [
      "PSPNet with Dilated ResNet 50's output size : torch.Size([4, 2, 473, 473])\n"
     ]
    }
   ],
   "source": [
    "inp = torch.rand(4, 3, 473, 473).to(device)\n",
    "layers = 50\n",
    "\n",
    "pspnet = PSPNet(layers=layers, bins=(1, 2, 3, 6), dropout=0.1, classes=2, zoom_factor=8, pretrained=False).to(device)\n",
    "pspnet.eval()\n",
    "output = pspnet(inp)\n",
    "print(f\"PSPNet with Dilated ResNet {layers}'s output size : {output.size()}\")"
   ]
  }
 ],
 "metadata": {
  "kernelspec": {
   "display_name": "Python 3",
   "language": "python",
   "name": "python3"
  },
  "language_info": {
   "codemirror_mode": {
    "name": "ipython",
    "version": 3
   },
   "file_extension": ".py",
   "mimetype": "text/x-python",
   "name": "python",
   "nbconvert_exporter": "python",
   "pygments_lexer": "ipython3",
   "version": "3.8.5"
  }
 },
 "nbformat": 4,
 "nbformat_minor": 5
}
